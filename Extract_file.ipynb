{
 "cells": [
  {
   "cell_type": "code",
   "execution_count": 6,
   "metadata": {},
   "outputs": [],
   "source": [
    "import pandas as pd\n",
    "import zipfile\n",
    "import os"
   ]
  },
  {
   "cell_type": "code",
   "execution_count": 7,
   "metadata": {},
   "outputs": [],
   "source": [
    "combine_list = pd.read_csv('combine list.csv')"
   ]
  },
  {
   "cell_type": "code",
   "execution_count": 8,
   "metadata": {},
   "outputs": [
    {
     "data": {
      "text/html": [
       "<div>\n",
       "<style scoped>\n",
       "    .dataframe tbody tr th:only-of-type {\n",
       "        vertical-align: middle;\n",
       "    }\n",
       "\n",
       "    .dataframe tbody tr th {\n",
       "        vertical-align: top;\n",
       "    }\n",
       "\n",
       "    .dataframe thead th {\n",
       "        text-align: right;\n",
       "    }\n",
       "</style>\n",
       "<table border=\"1\" class=\"dataframe\">\n",
       "  <thead>\n",
       "    <tr style=\"text-align: right;\">\n",
       "      <th></th>\n",
       "      <th>Unnamed: 0</th>\n",
       "      <th>Company</th>\n",
       "      <th>Date</th>\n",
       "      <th>Tahun_Buku</th>\n",
       "      <th>Link</th>\n",
       "    </tr>\n",
       "  </thead>\n",
       "  <tbody>\n",
       "    <tr>\n",
       "      <th>0</th>\n",
       "      <td>0</td>\n",
       "      <td>AALI</td>\n",
       "      <td>24 Februari 2021 | 14:27</td>\n",
       "      <td>2020</td>\n",
       "      <td>https://www.idx.co.id/Portals/0/StaticData/Lis...</td>\n",
       "    </tr>\n",
       "    <tr>\n",
       "      <th>1</th>\n",
       "      <td>1</td>\n",
       "      <td>ABBA</td>\n",
       "      <td>25 Agustus 2021 | 23:48</td>\n",
       "      <td>2020</td>\n",
       "      <td>https://www.idx.co.id/Portals/0/StaticData/Lis...</td>\n",
       "    </tr>\n",
       "    <tr>\n",
       "      <th>2</th>\n",
       "      <td>2</td>\n",
       "      <td>ABDA</td>\n",
       "      <td>31 Maret 2021 | 16:50</td>\n",
       "      <td>2020</td>\n",
       "      <td>https://www.idx.co.id/Portals/0/StaticData/Lis...</td>\n",
       "    </tr>\n",
       "    <tr>\n",
       "      <th>3</th>\n",
       "      <td>3</td>\n",
       "      <td>ABMM</td>\n",
       "      <td>31 Mei 2021 | 15:01</td>\n",
       "      <td>2020</td>\n",
       "      <td>https://www.idx.co.id/Portals/0/StaticData/Lis...</td>\n",
       "    </tr>\n",
       "    <tr>\n",
       "      <th>4</th>\n",
       "      <td>4</td>\n",
       "      <td>ACES</td>\n",
       "      <td>06 Mei 2021 | 17:16</td>\n",
       "      <td>2020</td>\n",
       "      <td>https://www.idx.co.id/Portals/0/StaticData/Lis...</td>\n",
       "    </tr>\n",
       "    <tr>\n",
       "      <th>...</th>\n",
       "      <td>...</td>\n",
       "      <td>...</td>\n",
       "      <td>...</td>\n",
       "      <td>...</td>\n",
       "      <td>...</td>\n",
       "    </tr>\n",
       "    <tr>\n",
       "      <th>2243</th>\n",
       "      <td>2243</td>\n",
       "      <td>ZATA</td>\n",
       "      <td>03 April 2023 | 15:02</td>\n",
       "      <td>2022</td>\n",
       "      <td>https://www.idx.co.id/Portals/0/StaticData/Lis...</td>\n",
       "    </tr>\n",
       "    <tr>\n",
       "      <th>2244</th>\n",
       "      <td>2244</td>\n",
       "      <td>ZBRA</td>\n",
       "      <td>10 April 2023 | 17:54</td>\n",
       "      <td>2022</td>\n",
       "      <td>https://www.idx.co.id/Portals/0/StaticData/Lis...</td>\n",
       "    </tr>\n",
       "    <tr>\n",
       "      <th>2245</th>\n",
       "      <td>2245</td>\n",
       "      <td>ZINC</td>\n",
       "      <td>26 Juni 2023 | 21:49</td>\n",
       "      <td>2022</td>\n",
       "      <td>https://www.idx.co.id/Portals/0/StaticData/Lis...</td>\n",
       "    </tr>\n",
       "    <tr>\n",
       "      <th>2246</th>\n",
       "      <td>2246</td>\n",
       "      <td>ZONE</td>\n",
       "      <td>03 April 2023 | 15:09</td>\n",
       "      <td>2022</td>\n",
       "      <td>https://www.idx.co.id/Portals/0/StaticData/Lis...</td>\n",
       "    </tr>\n",
       "    <tr>\n",
       "      <th>2247</th>\n",
       "      <td>2247</td>\n",
       "      <td>ZYRX</td>\n",
       "      <td>02 Mei 2023 | 13:37</td>\n",
       "      <td>2022</td>\n",
       "      <td>https://www.idx.co.id/Portals/0/StaticData/Lis...</td>\n",
       "    </tr>\n",
       "  </tbody>\n",
       "</table>\n",
       "<p>2248 rows × 5 columns</p>\n",
       "</div>"
      ],
      "text/plain": [
       "      Unnamed: 0 Company                      Date  Tahun_Buku  \\\n",
       "0              0    AALI  24 Februari 2021 | 14:27        2020   \n",
       "1              1    ABBA   25 Agustus 2021 | 23:48        2020   \n",
       "2              2    ABDA     31 Maret 2021 | 16:50        2020   \n",
       "3              3    ABMM       31 Mei 2021 | 15:01        2020   \n",
       "4              4    ACES       06 Mei 2021 | 17:16        2020   \n",
       "...          ...     ...                       ...         ...   \n",
       "2243        2243    ZATA     03 April 2023 | 15:02        2022   \n",
       "2244        2244    ZBRA     10 April 2023 | 17:54        2022   \n",
       "2245        2245    ZINC      26 Juni 2023 | 21:49        2022   \n",
       "2246        2246    ZONE     03 April 2023 | 15:09        2022   \n",
       "2247        2247    ZYRX       02 Mei 2023 | 13:37        2022   \n",
       "\n",
       "                                                   Link  \n",
       "0     https://www.idx.co.id/Portals/0/StaticData/Lis...  \n",
       "1     https://www.idx.co.id/Portals/0/StaticData/Lis...  \n",
       "2     https://www.idx.co.id/Portals/0/StaticData/Lis...  \n",
       "3     https://www.idx.co.id/Portals/0/StaticData/Lis...  \n",
       "4     https://www.idx.co.id/Portals/0/StaticData/Lis...  \n",
       "...                                                 ...  \n",
       "2243  https://www.idx.co.id/Portals/0/StaticData/Lis...  \n",
       "2244  https://www.idx.co.id/Portals/0/StaticData/Lis...  \n",
       "2245  https://www.idx.co.id/Portals/0/StaticData/Lis...  \n",
       "2246  https://www.idx.co.id/Portals/0/StaticData/Lis...  \n",
       "2247  https://www.idx.co.id/Portals/0/StaticData/Lis...  \n",
       "\n",
       "[2248 rows x 5 columns]"
      ]
     },
     "execution_count": 8,
     "metadata": {},
     "output_type": "execute_result"
    }
   ],
   "source": [
    "combine_list"
   ]
  },
  {
   "cell_type": "code",
   "execution_count": 9,
   "metadata": {},
   "outputs": [],
   "source": [
    "curr_folder = os.getcwd()\n",
    "data_folder = os.path.join(curr_folder, 'Data')"
   ]
  },
  {
   "cell_type": "code",
   "execution_count": 10,
   "metadata": {},
   "outputs": [
    {
     "name": "stdout",
     "output_type": "stream",
     "text": [
      "Error on  AMRT 2022\n",
      "Error on  WOMF 2022\n"
     ]
    }
   ],
   "source": [
    "for index, row in combine_list.iterrows():\n",
    "    file_directory =os.path.join(data_folder, row['Company'], str(row['Tahun_Buku']),'XBRL.zip')\n",
    "    folder_directory = os.path.join(data_folder, row['Company'], str(row['Tahun_Buku']))\n",
    "    try:\n",
    "        if os.path.exists(file_directory):\n",
    "            with zipfile.ZipFile(file_directory, 'r') as zip_ref:\n",
    "                zip_ref.extractall(folder_directory)\n",
    "    except:\n",
    "        print('Error on ', row['Company'], row['Tahun_Buku'])"
   ]
  }
 ],
 "metadata": {
  "kernelspec": {
   "display_name": "binus",
   "language": "python",
   "name": "binus"
  },
  "language_info": {
   "codemirror_mode": {
    "name": "ipython",
    "version": 3
   },
   "file_extension": ".py",
   "mimetype": "text/x-python",
   "name": "python",
   "nbconvert_exporter": "python",
   "pygments_lexer": "ipython3",
   "version": "3.10.4"
  },
  "orig_nbformat": 4
 },
 "nbformat": 4,
 "nbformat_minor": 2
}
