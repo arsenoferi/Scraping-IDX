{
 "cells": [
  {
   "cell_type": "code",
   "execution_count": 1,
   "metadata": {},
   "outputs": [],
   "source": [
    "import pytest\n",
    "import time\n",
    "import json\n",
    "from selenium import webdriver\n",
    "from selenium.webdriver.common.by import By\n",
    "from selenium.webdriver.common.action_chains import ActionChains\n",
    "from selenium.webdriver.support import expected_conditions\n",
    "from selenium.webdriver.support.wait import WebDriverWait\n",
    "from selenium.webdriver.common.keys import Keys\n",
    "from selenium.webdriver.common.desired_capabilities import DesiredCapabilities\n",
    "import pandas as pd"
   ]
  },
  {
   "cell_type": "code",
   "execution_count": 2,
   "metadata": {},
   "outputs": [],
   "source": [
    "Year = [2021,2020]"
   ]
  },
  {
   "cell_type": "code",
   "execution_count": 3,
   "metadata": {},
   "outputs": [
    {
     "ename": "SessionNotCreatedException",
     "evalue": "Message: session not created: This version of ChromeDriver only supports Chrome version 114\nCurrent browser version is 116.0.5845.111 with binary path C:\\Program Files\\Google\\Chrome\\Application\\chrome.exe\nStacktrace:\nBacktrace:\n\tGetHandleVerifier [0x0084A813+48355]\n\t(No symbol) [0x007DC4B1]\n\t(No symbol) [0x006E5358]\n\t(No symbol) [0x007061AC]\n\t(No symbol) [0x00701EF3]\n\t(No symbol) [0x00700579]\n\t(No symbol) [0x00730C55]\n\t(No symbol) [0x0073093C]\n\t(No symbol) [0x0072A536]\n\t(No symbol) [0x007082DC]\n\t(No symbol) [0x007093DD]\n\tGetHandleVerifier [0x00AAAABD+2539405]\n\tGetHandleVerifier [0x00AEA78F+2800735]\n\tGetHandleVerifier [0x00AE456C+2775612]\n\tGetHandleVerifier [0x008D51E0+616112]\n\t(No symbol) [0x007E5F8C]\n\t(No symbol) [0x007E2328]\n\t(No symbol) [0x007E240B]\n\t(No symbol) [0x007D4FF7]\n\tBaseThreadInitThunk [0x75877BA9+25]\n\tRtlInitializeExceptionChain [0x77BAB79B+107]\n\tRtlClearBits [0x77BAB71F+191]\n",
     "output_type": "error",
     "traceback": [
      "\u001b[1;31m---------------------------------------------------------------------------\u001b[0m",
      "\u001b[1;31mSessionNotCreatedException\u001b[0m                Traceback (most recent call last)",
      "Cell \u001b[1;32mIn[3], line 4\u001b[0m\n\u001b[0;32m      1\u001b[0m data_final \u001b[39m=\u001b[39m pd\u001b[39m.\u001b[39mDataFrame()\n\u001b[0;32m      3\u001b[0m \u001b[39mfor\u001b[39;00m a \u001b[39min\u001b[39;00m Year:\n\u001b[1;32m----> 4\u001b[0m     driver \u001b[39m=\u001b[39m webdriver\u001b[39m.\u001b[39mChrome()\n\u001b[0;32m      5\u001b[0m     driver\u001b[39m.\u001b[39mget(\u001b[39m\"\u001b[39m\u001b[39mhttps://www.idx.co.id/id/perusahaan-tercatat/laporan-keuangan-dan-tahunan\u001b[39m\u001b[39m\"\u001b[39m)\n\u001b[0;32m      6\u001b[0m     driver\u001b[39m.\u001b[39mset_window_size(\u001b[39m1936\u001b[39m, \u001b[39m1048\u001b[39m)\n",
      "File \u001b[1;32mc:\\Users\\arsen\\anaconda3\\envs\\skripsi\\Lib\\site-packages\\selenium\\webdriver\\chrome\\webdriver.py:49\u001b[0m, in \u001b[0;36mWebDriver.__init__\u001b[1;34m(self, options, service, keep_alive)\u001b[0m\n\u001b[0;32m     45\u001b[0m \u001b[39mself\u001b[39m\u001b[39m.\u001b[39mkeep_alive \u001b[39m=\u001b[39m keep_alive\n\u001b[0;32m     47\u001b[0m \u001b[39mself\u001b[39m\u001b[39m.\u001b[39mservice\u001b[39m.\u001b[39mpath \u001b[39m=\u001b[39m DriverFinder\u001b[39m.\u001b[39mget_path(\u001b[39mself\u001b[39m\u001b[39m.\u001b[39mservice, \u001b[39mself\u001b[39m\u001b[39m.\u001b[39moptions)\n\u001b[1;32m---> 49\u001b[0m \u001b[39msuper\u001b[39m()\u001b[39m.\u001b[39m\u001b[39m__init__\u001b[39m(\n\u001b[0;32m     50\u001b[0m     DesiredCapabilities\u001b[39m.\u001b[39mCHROME[\u001b[39m\"\u001b[39m\u001b[39mbrowserName\u001b[39m\u001b[39m\"\u001b[39m],\n\u001b[0;32m     51\u001b[0m     \u001b[39m\"\u001b[39m\u001b[39mgoog\u001b[39m\u001b[39m\"\u001b[39m,\n\u001b[0;32m     52\u001b[0m     \u001b[39mself\u001b[39m\u001b[39m.\u001b[39moptions,\n\u001b[0;32m     53\u001b[0m     \u001b[39mself\u001b[39m\u001b[39m.\u001b[39mservice,\n\u001b[0;32m     54\u001b[0m     \u001b[39mself\u001b[39m\u001b[39m.\u001b[39mkeep_alive,\n\u001b[0;32m     55\u001b[0m )\n",
      "File \u001b[1;32mc:\\Users\\arsen\\anaconda3\\envs\\skripsi\\Lib\\site-packages\\selenium\\webdriver\\chromium\\webdriver.py:54\u001b[0m, in \u001b[0;36mChromiumDriver.__init__\u001b[1;34m(self, browser_name, vendor_prefix, options, service, keep_alive)\u001b[0m\n\u001b[0;32m     51\u001b[0m \u001b[39mself\u001b[39m\u001b[39m.\u001b[39mservice\u001b[39m.\u001b[39mstart()\n\u001b[0;32m     53\u001b[0m \u001b[39mtry\u001b[39;00m:\n\u001b[1;32m---> 54\u001b[0m     \u001b[39msuper\u001b[39m()\u001b[39m.\u001b[39m\u001b[39m__init__\u001b[39m(\n\u001b[0;32m     55\u001b[0m         command_executor\u001b[39m=\u001b[39mChromiumRemoteConnection(\n\u001b[0;32m     56\u001b[0m             remote_server_addr\u001b[39m=\u001b[39m\u001b[39mself\u001b[39m\u001b[39m.\u001b[39mservice\u001b[39m.\u001b[39mservice_url,\n\u001b[0;32m     57\u001b[0m             browser_name\u001b[39m=\u001b[39mbrowser_name,\n\u001b[0;32m     58\u001b[0m             vendor_prefix\u001b[39m=\u001b[39mvendor_prefix,\n\u001b[0;32m     59\u001b[0m             keep_alive\u001b[39m=\u001b[39mkeep_alive,\n\u001b[0;32m     60\u001b[0m             ignore_proxy\u001b[39m=\u001b[39m\u001b[39mself\u001b[39m\u001b[39m.\u001b[39moptions\u001b[39m.\u001b[39m_ignore_local_proxy,\n\u001b[0;32m     61\u001b[0m         ),\n\u001b[0;32m     62\u001b[0m         options\u001b[39m=\u001b[39m\u001b[39mself\u001b[39m\u001b[39m.\u001b[39moptions,\n\u001b[0;32m     63\u001b[0m     )\n\u001b[0;32m     64\u001b[0m \u001b[39mexcept\u001b[39;00m \u001b[39mException\u001b[39;00m:\n\u001b[0;32m     65\u001b[0m     \u001b[39mself\u001b[39m\u001b[39m.\u001b[39mquit()\n",
      "File \u001b[1;32mc:\\Users\\arsen\\anaconda3\\envs\\skripsi\\Lib\\site-packages\\selenium\\webdriver\\remote\\webdriver.py:206\u001b[0m, in \u001b[0;36mWebDriver.__init__\u001b[1;34m(self, command_executor, keep_alive, file_detector, options)\u001b[0m\n\u001b[0;32m    204\u001b[0m \u001b[39mself\u001b[39m\u001b[39m.\u001b[39m_authenticator_id \u001b[39m=\u001b[39m \u001b[39mNone\u001b[39;00m\n\u001b[0;32m    205\u001b[0m \u001b[39mself\u001b[39m\u001b[39m.\u001b[39mstart_client()\n\u001b[1;32m--> 206\u001b[0m \u001b[39mself\u001b[39m\u001b[39m.\u001b[39mstart_session(capabilities)\n",
      "File \u001b[1;32mc:\\Users\\arsen\\anaconda3\\envs\\skripsi\\Lib\\site-packages\\selenium\\webdriver\\remote\\webdriver.py:291\u001b[0m, in \u001b[0;36mWebDriver.start_session\u001b[1;34m(self, capabilities)\u001b[0m\n\u001b[0;32m    283\u001b[0m \u001b[39m\u001b[39m\u001b[39m\"\"\"Creates a new session with the desired capabilities.\u001b[39;00m\n\u001b[0;32m    284\u001b[0m \n\u001b[0;32m    285\u001b[0m \u001b[39m:Args:\u001b[39;00m\n\u001b[0;32m    286\u001b[0m \u001b[39m - capabilities - a capabilities dict to start the session with.\u001b[39;00m\n\u001b[0;32m    287\u001b[0m \u001b[39m - browser_profile - A selenium.webdriver.firefox.firefox_profile.FirefoxProfile object. Only used if Firefox is requested.\u001b[39;00m\n\u001b[0;32m    288\u001b[0m \u001b[39m\"\"\"\u001b[39;00m\n\u001b[0;32m    290\u001b[0m caps \u001b[39m=\u001b[39m _create_caps(capabilities)\n\u001b[1;32m--> 291\u001b[0m response \u001b[39m=\u001b[39m \u001b[39mself\u001b[39m\u001b[39m.\u001b[39mexecute(Command\u001b[39m.\u001b[39mNEW_SESSION, caps)[\u001b[39m\"\u001b[39m\u001b[39mvalue\u001b[39m\u001b[39m\"\u001b[39m]\n\u001b[0;32m    292\u001b[0m \u001b[39mself\u001b[39m\u001b[39m.\u001b[39msession_id \u001b[39m=\u001b[39m response\u001b[39m.\u001b[39mget(\u001b[39m\"\u001b[39m\u001b[39msessionId\u001b[39m\u001b[39m\"\u001b[39m)\n\u001b[0;32m    293\u001b[0m \u001b[39mself\u001b[39m\u001b[39m.\u001b[39mcaps \u001b[39m=\u001b[39m response\u001b[39m.\u001b[39mget(\u001b[39m\"\u001b[39m\u001b[39mcapabilities\u001b[39m\u001b[39m\"\u001b[39m)\n",
      "File \u001b[1;32mc:\\Users\\arsen\\anaconda3\\envs\\skripsi\\Lib\\site-packages\\selenium\\webdriver\\remote\\webdriver.py:346\u001b[0m, in \u001b[0;36mWebDriver.execute\u001b[1;34m(self, driver_command, params)\u001b[0m\n\u001b[0;32m    344\u001b[0m response \u001b[39m=\u001b[39m \u001b[39mself\u001b[39m\u001b[39m.\u001b[39mcommand_executor\u001b[39m.\u001b[39mexecute(driver_command, params)\n\u001b[0;32m    345\u001b[0m \u001b[39mif\u001b[39;00m response:\n\u001b[1;32m--> 346\u001b[0m     \u001b[39mself\u001b[39m\u001b[39m.\u001b[39merror_handler\u001b[39m.\u001b[39mcheck_response(response)\n\u001b[0;32m    347\u001b[0m     response[\u001b[39m\"\u001b[39m\u001b[39mvalue\u001b[39m\u001b[39m\"\u001b[39m] \u001b[39m=\u001b[39m \u001b[39mself\u001b[39m\u001b[39m.\u001b[39m_unwrap_value(response\u001b[39m.\u001b[39mget(\u001b[39m\"\u001b[39m\u001b[39mvalue\u001b[39m\u001b[39m\"\u001b[39m, \u001b[39mNone\u001b[39;00m))\n\u001b[0;32m    348\u001b[0m     \u001b[39mreturn\u001b[39;00m response\n",
      "File \u001b[1;32mc:\\Users\\arsen\\anaconda3\\envs\\skripsi\\Lib\\site-packages\\selenium\\webdriver\\remote\\errorhandler.py:245\u001b[0m, in \u001b[0;36mErrorHandler.check_response\u001b[1;34m(self, response)\u001b[0m\n\u001b[0;32m    243\u001b[0m         alert_text \u001b[39m=\u001b[39m value[\u001b[39m\"\u001b[39m\u001b[39malert\u001b[39m\u001b[39m\"\u001b[39m]\u001b[39m.\u001b[39mget(\u001b[39m\"\u001b[39m\u001b[39mtext\u001b[39m\u001b[39m\"\u001b[39m)\n\u001b[0;32m    244\u001b[0m     \u001b[39mraise\u001b[39;00m exception_class(message, screen, stacktrace, alert_text)  \u001b[39m# type: ignore[call-arg]  # mypy is not smart enough here\u001b[39;00m\n\u001b[1;32m--> 245\u001b[0m \u001b[39mraise\u001b[39;00m exception_class(message, screen, stacktrace)\n",
      "\u001b[1;31mSessionNotCreatedException\u001b[0m: Message: session not created: This version of ChromeDriver only supports Chrome version 114\nCurrent browser version is 116.0.5845.111 with binary path C:\\Program Files\\Google\\Chrome\\Application\\chrome.exe\nStacktrace:\nBacktrace:\n\tGetHandleVerifier [0x0084A813+48355]\n\t(No symbol) [0x007DC4B1]\n\t(No symbol) [0x006E5358]\n\t(No symbol) [0x007061AC]\n\t(No symbol) [0x00701EF3]\n\t(No symbol) [0x00700579]\n\t(No symbol) [0x00730C55]\n\t(No symbol) [0x0073093C]\n\t(No symbol) [0x0072A536]\n\t(No symbol) [0x007082DC]\n\t(No symbol) [0x007093DD]\n\tGetHandleVerifier [0x00AAAABD+2539405]\n\tGetHandleVerifier [0x00AEA78F+2800735]\n\tGetHandleVerifier [0x00AE456C+2775612]\n\tGetHandleVerifier [0x008D51E0+616112]\n\t(No symbol) [0x007E5F8C]\n\t(No symbol) [0x007E2328]\n\t(No symbol) [0x007E240B]\n\t(No symbol) [0x007D4FF7]\n\tBaseThreadInitThunk [0x75877BA9+25]\n\tRtlInitializeExceptionChain [0x77BAB79B+107]\n\tRtlClearBits [0x77BAB71F+191]\n"
     ]
    }
   ],
   "source": [
    "data_final = pd.DataFrame()\n",
    "\n",
    "for a in Year:\n",
    "    driver = webdriver.Chrome()\n",
    "    driver.get(\"https://www.idx.co.id/id/perusahaan-tercatat/laporan-keuangan-dan-tahunan\")\n",
    "    driver.set_window_size(1936, 1048)\n",
    "    \n",
    "    elements = driver.find_elements(By.CSS_SELECTOR, \".bzg_c:nth-child(4) > .mb-8 *\")\n",
    "\n",
    "    for element in elements:\n",
    "        if element.text == \"Tahunan\":\n",
    "            element.click()\n",
    "    \n",
    "    elements = driver.find_elements(By.CSS_SELECTOR, \".bzg_c:nth-child(3) > .mb-8 *\")\n",
    "    count = 0\n",
    "\n",
    "    for element in elements:\n",
    "        if element.text == str(a):\n",
    "            element.click()\n",
    "\n",
    "    driver.find_element(By.CSS_SELECTOR, \".btn--wider:nth-child(2)\").click()\n",
    "\n",
    "    element = driver.find_element(By.CSS_SELECTOR, \".btn--wider:nth-child(2)\")\n",
    "    actions = ActionChains(driver)\n",
    "    actions.move_to_element(element).perform() \n",
    "\n",
    "    element = driver.find_element(By.CSS_SELECTOR, \"body\")\n",
    "    actions = ActionChains(driver)\n",
    "\n",
    "    data = pd.DataFrame()\n",
    "    data2 = {}\n",
    "    c = 0\n",
    "    looping = True\n",
    "    page = 1\n",
    "\n",
    "    max_page = driver.find_element(By.CSS_SELECTOR, f\".ph-8\").text\n",
    "    max_page = max_page.split(\" \")\n",
    "    max_page = max_page[1]  \n",
    "    max_page = int(max_page)\n",
    "\n",
    "    while looping:\n",
    "        WebDriverWait(driver, 30).until(expected_conditions.presence_of_element_located((By.CSS_SELECTOR, \".bzg_c:nth-child(1) .box-title\")))\n",
    "        for i in range(1, 13):\n",
    "            try:\n",
    "                driver.find_element(By.CSS_SELECTOR, f\".bzg_c:nth-child({i}) .box-title\").click()\n",
    "                companys = driver.find_element(By.CSS_SELECTOR, f\".bzg_c:nth-child({i}) .f-20\").text\n",
    "                data2['Company'] = companys\n",
    "\n",
    "                driver.find_element(By.CSS_SELECTOR, f\".bzg_c:nth-child({i}) small\").click()\n",
    "                date = driver.find_element(By.CSS_SELECTOR, f\".bzg_c:nth-child({i}) small\").text\n",
    "                data2['Date']= date\n",
    "\n",
    "                driver.find_element(By.CSS_SELECTOR, f\".bzg_c:nth-child({i}) tr:nth-child(2) > .full-width\").click()\n",
    "                Tahun_Buku = driver.find_element(By.CSS_SELECTOR, f\".bzg_c:nth-child({i}) tr:nth-child(2) > .full-width\").text\n",
    "                data2['Tahun_Buku'] = Tahun_Buku\n",
    "                data2 = pd.DataFrame(data2, index=[c])\n",
    "                data = pd.concat([data, data2])\n",
    "\n",
    "            except Exception as e:\n",
    "                print(f\"there in no company again\")\n",
    "\n",
    "        if page == max_page:\n",
    "            looping = False\n",
    "        else:\n",
    "            try:\n",
    "                driver.find_element(By.CSS_SELECTOR, \".\\\\--next\").click()\n",
    "            except:\n",
    "                looping = False\n",
    "        \n",
    "        page += 1\n",
    "        \n",
    "    data.reset_index(drop=True, inplace=True)\n",
    "    data.to_csv(f\"Data_{a}.csv\")\n",
    "    "
   ]
  }
 ],
 "metadata": {
  "kernelspec": {
   "display_name": "skripsi",
   "language": "python",
   "name": "skripsi"
  },
  "language_info": {
   "codemirror_mode": {
    "name": "ipython",
    "version": 3
   },
   "file_extension": ".py",
   "mimetype": "text/x-python",
   "name": "python",
   "nbconvert_exporter": "python",
   "pygments_lexer": "ipython3",
   "version": "3.11.4"
  },
  "orig_nbformat": 4
 },
 "nbformat": 4,
 "nbformat_minor": 2
}
