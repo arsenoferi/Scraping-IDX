{
 "cells": [
  {
   "cell_type": "code",
   "execution_count": 1,
   "metadata": {},
   "outputs": [],
   "source": [
    "from Script.General import *\n",
    "\n",
    "g = General()\n"
   ]
  },
  {
   "cell_type": "markdown",
   "metadata": {},
   "source": [
    "# Register Variable"
   ]
  },
  {
   "cell_type": "code",
   "execution_count": 2,
   "metadata": {},
   "outputs": [],
   "source": [
    "register = [\n",
    "    ['kas','2','CurrentYearInstant','Kas dan setara kas'],\n",
    "    ['kas','2','CurrentYearInstant','Kas'],  \n",
    "    ['jumlah_aset_lancar','2','CurrentYearInstant','Jumlah aset lancar'],\n",
    "    ['persediaan','2','CurrentYearInstant','Persediaan lancar lainnya'],\n",
    "    ['piutang_pihak_tiga','2','CurrentYearInstant','Piutang usaha pihak ketiga'],\n",
    "    ['piutang_relasi','2','CurrentYearInstant','Piutang usaha pihak berelasi'],\n",
    "    ['jumlah_aset_tidak_lancar','2','CurrentYearInstant','Jumlah aset tidak lancar'],\n",
    "    ['jumlah_aset','2','CurrentYearInstant','Jumlah aset'],\n",
    "    ['jumlah_liabilitas_jangka_pendek','2','CurrentYearInstant','Jumlah liabilitas jangka pendek'],\n",
    "    ['jumlah_liabilitas_jangka_panjang','2','CurrentYearInstant','Jumlah liabilitas jangka panjang'],\n",
    "    ['jumlah_ekuitas','2','CurrentYearInstant','Jumlah ekuitas'],\n",
    "    ['jumlah_liabilitas','2','CurrentYearInstant','Jumlah liabilitas'],\n",
    "    ['jumlah_ekuitas','2','CurrentYearInstant','Jumlah ekuitas'],\n",
    "    ['pendapatan','3','CurrentYearDuration','Penjualan dan pendapatan usaha'],\n",
    "    ['pendapatan','3','CurrentYearDuration','Pendapatan dari premi asuransi'],\n",
    "    ['pendapatan','3','CurrentYearDuration','Pendapatan bunga'],\n",
    "    ['pendapatan','3','CurrentYearDuration',['Pendapatan bunga dan keuangan','Pendapatan dari murabahah dan istishna','Pendapatan dari pembiayaan konsumen','Pendapatan dari sewa pembiayaan','Pendapatan administrasi','Pendapatan dari provisi dan komisi','Pendapatan dividen','Penerimaan kembali aset yang telah dihapusbukukan','Keuntungan (kerugian) selisih kurs mata uang asing','Keuntungan (kerugian) pelepasan aset tetap','Pendapatan lainnya']],\n",
    "    ['cogs','3','CurrentYearDuration','Beban pokok penjualan dan pendapatan'],\n",
    "    ['laba_bruto','3','CurrentYearDuration','Jumlah laba bruto'],\n",
    "    ['laba_rugi','3','CurrentYearDuration','Jumlah laba (rugi)'],\n",
    "    ['laba_rugi_komprehensif','3','CurrentYearDuration','Jumlah laba rugi komprehensif'],\n",
    "    ['EPS','3','CurrentYearDuration','Laba (rugi) per saham dasar dari operasi yang dilanjutkan'],\n",
    "]"
   ]
  },
  {
   "cell_type": "markdown",
   "metadata": {},
   "source": [
    "# Industry Categorization"
   ]
  },
  {
   "cell_type": "code",
   "execution_count": 3,
   "metadata": {},
   "outputs": [],
   "source": [
    "def list_cat(x):\n",
    "    folder_list = os.listdir(x['folder_path'])\n",
    "    value = np.nan\n",
    "    for fd in folder_list:\n",
    "        if \"1210000.html\" in fd:\n",
    "            value = \"General\"\n",
    "        elif \"6220000.html\" in fd:\n",
    "            value = \"Insurance\"\n",
    "        elif \"1220000.html\" in fd:\n",
    "            value = \"General - liquidity\"\n",
    "        elif \"2210000.html\" in fd:\n",
    "            value = \"Property\"\n",
    "        elif \"8220000.html\" in fd:\n",
    "            value = \"Finance Industry\"\n",
    "        elif \"4220000.html\" in fd :\n",
    "            value = \"Financial and Shariah\"\n",
    "        elif \"3210000.html\" in fd :\n",
    "            value = \"Infrastructure Industry\"\n",
    "        elif \"2220000.html\" in fd :\n",
    "            value = \"Property\"\n",
    "        elif \"5220000.html\" in fd :\n",
    "            value = \"Securities Industry\"\n",
    "        elif \"3220000.html\" in fd :\n",
    "            value = \"Infrastructure Industry - liqudity\"\n",
    "\n",
    "    \n",
    "    return value"
   ]
  },
  {
   "cell_type": "code",
   "execution_count": 4,
   "metadata": {},
   "outputs": [],
   "source": [
    "folder_list_ori = g.add_folder_columns()\n",
    "folder_list_ori['category'] = folder_list_ori.apply(lambda x:list_cat(x),axis=1)\n",
    "folder_list_ori.to_csv(\"category.csv\",index=False)"
   ]
  },
  {
   "cell_type": "code",
   "execution_count": 5,
   "metadata": {},
   "outputs": [
    {
     "data": {
      "text/html": [
       "<div>\n",
       "<style scoped>\n",
       "    .dataframe tbody tr th:only-of-type {\n",
       "        vertical-align: middle;\n",
       "    }\n",
       "\n",
       "    .dataframe tbody tr th {\n",
       "        vertical-align: top;\n",
       "    }\n",
       "\n",
       "    .dataframe thead th {\n",
       "        text-align: right;\n",
       "    }\n",
       "</style>\n",
       "<table border=\"1\" class=\"dataframe\">\n",
       "  <thead>\n",
       "    <tr style=\"text-align: right;\">\n",
       "      <th></th>\n",
       "      <th>Unnamed: 0</th>\n",
       "      <th>Company</th>\n",
       "      <th>Date</th>\n",
       "      <th>Tahun_Buku</th>\n",
       "      <th>Link</th>\n",
       "      <th>folder_path</th>\n",
       "      <th>category</th>\n",
       "    </tr>\n",
       "  </thead>\n",
       "  <tbody>\n",
       "    <tr>\n",
       "      <th>0</th>\n",
       "      <td>0</td>\n",
       "      <td>AALI</td>\n",
       "      <td>24 Februari 2021 | 14:27</td>\n",
       "      <td>2020</td>\n",
       "      <td>https://www.idx.co.id/Portals/0/StaticData/Lis...</td>\n",
       "      <td>c:\\Users\\arsen\\OneDrive\\Temp\\Scraping IDX\\Data...</td>\n",
       "      <td>General</td>\n",
       "    </tr>\n",
       "    <tr>\n",
       "      <th>1</th>\n",
       "      <td>1</td>\n",
       "      <td>ABBA</td>\n",
       "      <td>25 Agustus 2021 | 23:48</td>\n",
       "      <td>2020</td>\n",
       "      <td>https://www.idx.co.id/Portals/0/StaticData/Lis...</td>\n",
       "      <td>c:\\Users\\arsen\\OneDrive\\Temp\\Scraping IDX\\Data...</td>\n",
       "      <td>General</td>\n",
       "    </tr>\n",
       "    <tr>\n",
       "      <th>2</th>\n",
       "      <td>2</td>\n",
       "      <td>ABDA</td>\n",
       "      <td>31 Maret 2021 | 16:50</td>\n",
       "      <td>2020</td>\n",
       "      <td>https://www.idx.co.id/Portals/0/StaticData/Lis...</td>\n",
       "      <td>c:\\Users\\arsen\\OneDrive\\Temp\\Scraping IDX\\Data...</td>\n",
       "      <td>Insurance</td>\n",
       "    </tr>\n",
       "    <tr>\n",
       "      <th>3</th>\n",
       "      <td>3</td>\n",
       "      <td>ABMM</td>\n",
       "      <td>31 Mei 2021 | 15:01</td>\n",
       "      <td>2020</td>\n",
       "      <td>https://www.idx.co.id/Portals/0/StaticData/Lis...</td>\n",
       "      <td>c:\\Users\\arsen\\OneDrive\\Temp\\Scraping IDX\\Data...</td>\n",
       "      <td>General</td>\n",
       "    </tr>\n",
       "    <tr>\n",
       "      <th>4</th>\n",
       "      <td>4</td>\n",
       "      <td>ACES</td>\n",
       "      <td>06 Mei 2021 | 17:16</td>\n",
       "      <td>2020</td>\n",
       "      <td>https://www.idx.co.id/Portals/0/StaticData/Lis...</td>\n",
       "      <td>c:\\Users\\arsen\\OneDrive\\Temp\\Scraping IDX\\Data...</td>\n",
       "      <td>General</td>\n",
       "    </tr>\n",
       "    <tr>\n",
       "      <th>...</th>\n",
       "      <td>...</td>\n",
       "      <td>...</td>\n",
       "      <td>...</td>\n",
       "      <td>...</td>\n",
       "      <td>...</td>\n",
       "      <td>...</td>\n",
       "      <td>...</td>\n",
       "    </tr>\n",
       "    <tr>\n",
       "      <th>2243</th>\n",
       "      <td>2243</td>\n",
       "      <td>ZATA</td>\n",
       "      <td>03 April 2023 | 15:02</td>\n",
       "      <td>2022</td>\n",
       "      <td>https://www.idx.co.id/Portals/0/StaticData/Lis...</td>\n",
       "      <td>c:\\Users\\arsen\\OneDrive\\Temp\\Scraping IDX\\Data...</td>\n",
       "      <td>General</td>\n",
       "    </tr>\n",
       "    <tr>\n",
       "      <th>2244</th>\n",
       "      <td>2244</td>\n",
       "      <td>ZBRA</td>\n",
       "      <td>10 April 2023 | 17:54</td>\n",
       "      <td>2022</td>\n",
       "      <td>https://www.idx.co.id/Portals/0/StaticData/Lis...</td>\n",
       "      <td>c:\\Users\\arsen\\OneDrive\\Temp\\Scraping IDX\\Data...</td>\n",
       "      <td>General</td>\n",
       "    </tr>\n",
       "    <tr>\n",
       "      <th>2245</th>\n",
       "      <td>2245</td>\n",
       "      <td>ZINC</td>\n",
       "      <td>26 Juni 2023 | 21:49</td>\n",
       "      <td>2022</td>\n",
       "      <td>https://www.idx.co.id/Portals/0/StaticData/Lis...</td>\n",
       "      <td>c:\\Users\\arsen\\OneDrive\\Temp\\Scraping IDX\\Data...</td>\n",
       "      <td>General</td>\n",
       "    </tr>\n",
       "    <tr>\n",
       "      <th>2246</th>\n",
       "      <td>2246</td>\n",
       "      <td>ZONE</td>\n",
       "      <td>03 April 2023 | 15:09</td>\n",
       "      <td>2022</td>\n",
       "      <td>https://www.idx.co.id/Portals/0/StaticData/Lis...</td>\n",
       "      <td>c:\\Users\\arsen\\OneDrive\\Temp\\Scraping IDX\\Data...</td>\n",
       "      <td>General</td>\n",
       "    </tr>\n",
       "    <tr>\n",
       "      <th>2247</th>\n",
       "      <td>2247</td>\n",
       "      <td>ZYRX</td>\n",
       "      <td>02 Mei 2023 | 13:37</td>\n",
       "      <td>2022</td>\n",
       "      <td>https://www.idx.co.id/Portals/0/StaticData/Lis...</td>\n",
       "      <td>c:\\Users\\arsen\\OneDrive\\Temp\\Scraping IDX\\Data...</td>\n",
       "      <td>General</td>\n",
       "    </tr>\n",
       "  </tbody>\n",
       "</table>\n",
       "<p>2248 rows × 7 columns</p>\n",
       "</div>"
      ],
      "text/plain": [
       "      Unnamed: 0 Company                      Date  Tahun_Buku  \\\n",
       "0              0    AALI  24 Februari 2021 | 14:27        2020   \n",
       "1              1    ABBA   25 Agustus 2021 | 23:48        2020   \n",
       "2              2    ABDA     31 Maret 2021 | 16:50        2020   \n",
       "3              3    ABMM       31 Mei 2021 | 15:01        2020   \n",
       "4              4    ACES       06 Mei 2021 | 17:16        2020   \n",
       "...          ...     ...                       ...         ...   \n",
       "2243        2243    ZATA     03 April 2023 | 15:02        2022   \n",
       "2244        2244    ZBRA     10 April 2023 | 17:54        2022   \n",
       "2245        2245    ZINC      26 Juni 2023 | 21:49        2022   \n",
       "2246        2246    ZONE     03 April 2023 | 15:09        2022   \n",
       "2247        2247    ZYRX       02 Mei 2023 | 13:37        2022   \n",
       "\n",
       "                                                   Link  \\\n",
       "0     https://www.idx.co.id/Portals/0/StaticData/Lis...   \n",
       "1     https://www.idx.co.id/Portals/0/StaticData/Lis...   \n",
       "2     https://www.idx.co.id/Portals/0/StaticData/Lis...   \n",
       "3     https://www.idx.co.id/Portals/0/StaticData/Lis...   \n",
       "4     https://www.idx.co.id/Portals/0/StaticData/Lis...   \n",
       "...                                                 ...   \n",
       "2243  https://www.idx.co.id/Portals/0/StaticData/Lis...   \n",
       "2244  https://www.idx.co.id/Portals/0/StaticData/Lis...   \n",
       "2245  https://www.idx.co.id/Portals/0/StaticData/Lis...   \n",
       "2246  https://www.idx.co.id/Portals/0/StaticData/Lis...   \n",
       "2247  https://www.idx.co.id/Portals/0/StaticData/Lis...   \n",
       "\n",
       "                                            folder_path   category  \n",
       "0     c:\\Users\\arsen\\OneDrive\\Temp\\Scraping IDX\\Data...    General  \n",
       "1     c:\\Users\\arsen\\OneDrive\\Temp\\Scraping IDX\\Data...    General  \n",
       "2     c:\\Users\\arsen\\OneDrive\\Temp\\Scraping IDX\\Data...  Insurance  \n",
       "3     c:\\Users\\arsen\\OneDrive\\Temp\\Scraping IDX\\Data...    General  \n",
       "4     c:\\Users\\arsen\\OneDrive\\Temp\\Scraping IDX\\Data...    General  \n",
       "...                                                 ...        ...  \n",
       "2243  c:\\Users\\arsen\\OneDrive\\Temp\\Scraping IDX\\Data...    General  \n",
       "2244  c:\\Users\\arsen\\OneDrive\\Temp\\Scraping IDX\\Data...    General  \n",
       "2245  c:\\Users\\arsen\\OneDrive\\Temp\\Scraping IDX\\Data...    General  \n",
       "2246  c:\\Users\\arsen\\OneDrive\\Temp\\Scraping IDX\\Data...    General  \n",
       "2247  c:\\Users\\arsen\\OneDrive\\Temp\\Scraping IDX\\Data...    General  \n",
       "\n",
       "[2248 rows x 7 columns]"
      ]
     },
     "execution_count": 5,
     "metadata": {},
     "output_type": "execute_result"
    }
   ],
   "source": [
    "folder_list_ori"
   ]
  },
  {
   "cell_type": "markdown",
   "metadata": {},
   "source": [
    "# Script Extract XBRL"
   ]
  },
  {
   "cell_type": "code",
   "execution_count": 6,
   "metadata": {},
   "outputs": [
    {
     "data": {
      "text/html": [
       "<div>\n",
       "<style scoped>\n",
       "    .dataframe tbody tr th:only-of-type {\n",
       "        vertical-align: middle;\n",
       "    }\n",
       "\n",
       "    .dataframe tbody tr th {\n",
       "        vertical-align: top;\n",
       "    }\n",
       "\n",
       "    .dataframe thead th {\n",
       "        text-align: right;\n",
       "    }\n",
       "</style>\n",
       "<table border=\"1\" class=\"dataframe\">\n",
       "  <thead>\n",
       "    <tr style=\"text-align: right;\">\n",
       "      <th></th>\n",
       "      <th>Unnamed: 0</th>\n",
       "      <th>Company</th>\n",
       "      <th>Date</th>\n",
       "      <th>Tahun_Buku</th>\n",
       "      <th>Link</th>\n",
       "      <th>folder_path</th>\n",
       "    </tr>\n",
       "  </thead>\n",
       "  <tbody>\n",
       "    <tr>\n",
       "      <th>717</th>\n",
       "      <td>717</td>\n",
       "      <td>ADMF</td>\n",
       "      <td>09 Mei 2022 | 15:27</td>\n",
       "      <td>2021</td>\n",
       "      <td>https://www.idx.co.id/Portals/0/StaticData/Lis...</td>\n",
       "      <td>c:\\Users\\arsen\\OneDrive\\Temp\\Scraping IDX\\Data...</td>\n",
       "    </tr>\n",
       "  </tbody>\n",
       "</table>\n",
       "</div>"
      ],
      "text/plain": [
       "     Unnamed: 0 Company                 Date  Tahun_Buku  \\\n",
       "717         717    ADMF  09 Mei 2022 | 15:27        2021   \n",
       "\n",
       "                                                  Link  \\\n",
       "717  https://www.idx.co.id/Portals/0/StaticData/Lis...   \n",
       "\n",
       "                                           folder_path  \n",
       "717  c:\\Users\\arsen\\OneDrive\\Temp\\Scraping IDX\\Data...  "
      ]
     },
     "execution_count": 6,
     "metadata": {},
     "output_type": "execute_result"
    }
   ],
   "source": [
    "folder_list = g.add_folder_columns()\n",
    "folder_list = folder_list[folder_list['Company']=='ADMF']\n",
    "#folder_list = folder_list[folder_list['Tahun_Buku']==2021]\n",
    "folder_list"
   ]
  },
  {
   "cell_type": "code",
   "execution_count": 7,
   "metadata": {},
   "outputs": [],
   "source": [
    "val_list = pd.DataFrame()\n",
    "i=0\n",
    "\n",
    "for row in folder_list.itertuples():\n",
    "    val={}\n",
    "    folder_path = row.folder_path\n",
    "    val['Company'] = row.Company\n",
    "    val['Tahun_Buku'] = row.Tahun_Buku\n",
    "    val['Tanggal Rilis'] = row.Date\n",
    "    \n",
    "\n",
    "    for x in register:\n",
    "\n",
    "        try:\n",
    "            dire = os.listdir(folder_path)\n",
    "            for file_name in dire:\n",
    "                if x[1] in file_name[1]:\n",
    "                    file_path = file_name\n",
    "                    \n",
    "            if type(x[3]) == list:\n",
    "                val[f'{x[0]}'] = g.get_multiple_data(folder_path,file_path,x[2],x[3])\n",
    "                    \n",
    "            else:  \n",
    "                val[f'{x[0]}'] = g.get_data(folder_path,file_path,x[2],x[3])\n",
    "            \n",
    "        except:\n",
    "            pass\n",
    "    \n",
    "    val = pd.DataFrame(val,index=[i])\n",
    "    val_list = pd.concat([val_list,val])\n",
    "    i+=1\n",
    "\n",
    "folder_list_ori['Company']=folder_list_ori[['Company']].astype(str)\n",
    "folder_list_ori = folder_list_ori.drop_duplicates(subset=['Company'],keep='first')\n",
    "folder_list_ori = folder_list_ori[['Company','category']]\n",
    "folder_list_ori = folder_list_ori.set_index('Company')\n",
    "val_list = val_list.join(folder_list_ori,on='Company',how='left')\n",
    "\n"
   ]
  },
  {
   "cell_type": "markdown",
   "metadata": {},
   "source": [
    "# Script Extract Tanggal"
   ]
  },
  {
   "cell_type": "code",
   "execution_count": 8,
   "metadata": {},
   "outputs": [],
   "source": [
    "from datetime import datetime, timedelta"
   ]
  },
  {
   "cell_type": "code",
   "execution_count": 9,
   "metadata": {},
   "outputs": [],
   "source": [
    "month_converter = {\n",
    "    'Januari' : 'January',\n",
    "    'Februari' : 'February',\n",
    "    'Maret' : 'March',\n",
    "    'April' : 'April',\n",
    "    'Mei' : 'May',\n",
    "    'Juni' : 'June',\n",
    "    'Juli' : 'July',\n",
    "    'Agustus' : 'August',\n",
    "    'September' : 'September',\n",
    "    'Oktober' : 'October',\n",
    "    'November' : 'November',\n",
    "    'Desember' : 'December'\n",
    "}\n",
    "\n",
    "for indonesia_month, english_month in month_converter.items():\n",
    "    val_list['Tanggal Rilis'] = val_list['Tanggal Rilis'].str.replace(indonesia_month, english_month)"
   ]
  },
  {
   "cell_type": "code",
   "execution_count": 10,
   "metadata": {},
   "outputs": [],
   "source": [
    "date_format = \"%d %B %Y | %H:%M\"\n",
    "val_list['Tanggal Rilis'] = pd.to_datetime(val_list['Tanggal Rilis'],format=date_format)"
   ]
  },
  {
   "cell_type": "code",
   "execution_count": 11,
   "metadata": {},
   "outputs": [],
   "source": [
    "val_list['End of Next Month'] = val_list['Tanggal Rilis'] + timedelta(days=14)"
   ]
  },
  {
   "cell_type": "code",
   "execution_count": 12,
   "metadata": {},
   "outputs": [
    {
     "data": {
      "text/html": [
       "<div>\n",
       "<style scoped>\n",
       "    .dataframe tbody tr th:only-of-type {\n",
       "        vertical-align: middle;\n",
       "    }\n",
       "\n",
       "    .dataframe tbody tr th {\n",
       "        vertical-align: top;\n",
       "    }\n",
       "\n",
       "    .dataframe thead th {\n",
       "        text-align: right;\n",
       "    }\n",
       "</style>\n",
       "<table border=\"1\" class=\"dataframe\">\n",
       "  <thead>\n",
       "    <tr style=\"text-align: right;\">\n",
       "      <th></th>\n",
       "      <th>Company</th>\n",
       "      <th>Tahun_Buku</th>\n",
       "      <th>Tanggal Rilis</th>\n",
       "      <th>kas</th>\n",
       "      <th>jumlah_aset</th>\n",
       "      <th>jumlah_ekuitas</th>\n",
       "      <th>jumlah_liabilitas</th>\n",
       "      <th>pendapatan</th>\n",
       "      <th>laba_rugi</th>\n",
       "      <th>laba_rugi_komprehensif</th>\n",
       "      <th>EPS</th>\n",
       "      <th>category</th>\n",
       "      <th>End of Next Month</th>\n",
       "    </tr>\n",
       "  </thead>\n",
       "  <tbody>\n",
       "    <tr>\n",
       "      <th>0</th>\n",
       "      <td>ADMF</td>\n",
       "      <td>2021</td>\n",
       "      <td>2022-05-09 15:27:00</td>\n",
       "      <td>153864.0</td>\n",
       "      <td>23725885.0</td>\n",
       "      <td>8887006.0</td>\n",
       "      <td>14838879.0</td>\n",
       "      <td>8653143.0</td>\n",
       "      <td>1212700.0</td>\n",
       "      <td>1474731.0</td>\n",
       "      <td>1213.0</td>\n",
       "      <td>Finance Industry</td>\n",
       "      <td>2022-05-23 15:27:00</td>\n",
       "    </tr>\n",
       "  </tbody>\n",
       "</table>\n",
       "</div>"
      ],
      "text/plain": [
       "  Company  Tahun_Buku       Tanggal Rilis       kas  jumlah_aset  \\\n",
       "0    ADMF        2021 2022-05-09 15:27:00  153864.0   23725885.0   \n",
       "\n",
       "   jumlah_ekuitas  jumlah_liabilitas  pendapatan  laba_rugi  \\\n",
       "0       8887006.0         14838879.0   8653143.0  1212700.0   \n",
       "\n",
       "   laba_rugi_komprehensif     EPS          category   End of Next Month  \n",
       "0               1474731.0  1213.0  Finance Industry 2022-05-23 15:27:00  "
      ]
     },
     "execution_count": 12,
     "metadata": {},
     "output_type": "execute_result"
    }
   ],
   "source": [
    "val_list"
   ]
  },
  {
   "cell_type": "markdown",
   "metadata": {},
   "source": [
    "# Tarik Data Saham"
   ]
  },
  {
   "cell_type": "code",
   "execution_count": 13,
   "metadata": {},
   "outputs": [],
   "source": [
    "import yfinance as yf"
   ]
  },
  {
   "cell_type": "code",
   "execution_count": 14,
   "metadata": {},
   "outputs": [],
   "source": [
    "def avg_seven_day(x):\n",
    "    company_code = f'{x[\"Company\"]}.JK'\n",
    "    start_date = x['Tanggal Rilis'].strftime('%Y-%m-%d')\n",
    "    end_date = x['End of Next Month'].strftime('%Y-%m-%d')\n",
    "\n",
    "    data = yf.download(company_code,start_date,end_date)\n",
    "    value = data['Adj Close'].head(7).mean()\n",
    "    return value"
   ]
  },
  {
   "cell_type": "code",
   "execution_count": 15,
   "metadata": {},
   "outputs": [
    {
     "name": "stdout",
     "output_type": "stream",
     "text": [
      "[*********************100%***********************]  1 of 1 completed\n"
     ]
    }
   ],
   "source": [
    "val_list['Avg Harga Saham 7 Hari'] = val_list.apply(lambda x: avg_seven_day(x),axis=1)\n",
    "val_list.drop(['End of Next Month'],axis=1,inplace=True)"
   ]
  },
  {
   "cell_type": "code",
   "execution_count": 16,
   "metadata": {},
   "outputs": [],
   "source": [
    "val_list.to_csv('data_raw.csv',index=False)"
   ]
  }
 ],
 "metadata": {
  "kernelspec": {
   "display_name": "skripsi",
   "language": "python",
   "name": "skripsi"
  },
  "language_info": {
   "codemirror_mode": {
    "name": "ipython",
    "version": 3
   },
   "file_extension": ".py",
   "mimetype": "text/x-python",
   "name": "python",
   "nbconvert_exporter": "python",
   "pygments_lexer": "ipython3",
   "version": "3.11.4"
  },
  "orig_nbformat": 4
 },
 "nbformat": 4,
 "nbformat_minor": 2
}
