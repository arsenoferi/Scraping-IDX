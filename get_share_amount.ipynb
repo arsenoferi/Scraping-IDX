{
 "cells": [
  {
   "cell_type": "code",
   "execution_count": 153,
   "metadata": {},
   "outputs": [],
   "source": [
    "import pandas as pd\n",
    "import os\n",
    "import pandas as pd\n",
    "from selenium import webdriver\n",
    "from selenium.webdriver.common.by import By\n",
    "from selenium.webdriver.support.ui import WebDriverWait\n",
    "from selenium.webdriver.support import expected_conditions"
   ]
  },
  {
   "cell_type": "code",
   "execution_count": 154,
   "metadata": {},
   "outputs": [
    {
     "data": {
      "text/plain": [
       "['AALI']"
      ]
     },
     "execution_count": 154,
     "metadata": {},
     "output_type": "execute_result"
    }
   ],
   "source": [
    "data_saham = pd.read_csv('data_olahan.csv')\n",
    "data_saham = data_saham.drop_duplicates(subset=['Company'])\n",
    "data_saham = data_saham.loc[data_saham.Company == \"AALI\"]\n",
    "data_saham = data_saham.Company.to_list()\n",
    "data_saham"
   ]
  },
  {
   "cell_type": "code",
   "execution_count": 155,
   "metadata": {},
   "outputs": [],
   "source": [
    "driver = webdriver.Firefox()"
   ]
  },
  {
   "cell_type": "code",
   "execution_count": 156,
   "metadata": {},
   "outputs": [],
   "source": [
    "def data_scarping(company):\n",
    "    try:\n",
    "        data = []\n",
    "        vars = {}\n",
    "        driver.get(f\"https://www.idx.co.id/id/perusahaan-tercatat/profil-perusahaan-tercatat/{company}\")\n",
    "        print(f'--saving {company}--')\n",
    "        company_dict = {'Company':company}\n",
    "        vars = {**vars, **company_dict}\n",
    "        driver.set_window_size(1440, 801)\n",
    "        \n",
    "        try:\n",
    "            WebDriverWait(driver, 100).until(expected_conditions.text_to_be_present_in_element((By.XPATH, \"//div[@id=\\'app\\']/div[2]/main/div[2]/div/nav/button[3]\"), \"Pencatatan Saham\"))\n",
    "            WebDriverWait(driver, 100).until(expected_conditions.visibility_of_element_located((By.XPATH, \"//div[@id=\\'app\\']/div[2]/main/div[2]/div/nav/button[3]\")))\n",
    "            WebDriverWait(driver, 100).until(expected_conditions.presence_of_element_located((By.XPATH, \"//div[@id=\\'app\\']/div[2]/main/div[2]/div/nav/button[3]\")))\n",
    "            WebDriverWait(driver, 100).until(expected_conditions.element_to_be_clickable((By.XPATH, \"//div[@id=\\'app\\']/div[2]/main/div[2]/div/nav/button[3]\")))\n",
    "            driver.find_element(By.CSS_SELECTOR, \".mr-24:nth-child(3)\").click()\n",
    "            WebDriverWait(driver, 100).until(expected_conditions.visibility_of_element_located((By.XPATH, \"//table[@id=\\'vgt-table\\']/tbody/tr/td/span\")))\n",
    "            WebDriverWait(driver, 100).until(expected_conditions.presence_of_element_located((By.XPATH, \"//table[@id=\\'vgt-table\\']/tbody/tr/td/span\")))\n",
    "            WebDriverWait(driver, 100).until(expected_conditions.visibility_of_element_located((By.XPATH, \"//table[@id='vgt-table']/tbody/tr/td[4]/div\")))\n",
    "            WebDriverWait(driver, 100).until(expected_conditions.presence_of_element_located((By.XPATH, \"//table[@id='vgt-table']/tbody/tr/td[4]/div\")))\n",
    "                \n",
    "        except:\n",
    "            vars[\"Tanggal\"] = \"Tidak ada data\"\n",
    "            vars[\"Saham\"] = \"Tidak ada data\"\n",
    "            data.append(vars.copy())\n",
    "\n",
    "        condition = True\n",
    "        i = 1\n",
    "        while condition == True:\n",
    "            try:\n",
    "                if i == 1:\n",
    "                    print('sama dengan 1')\n",
    "                    try:\n",
    "                        vars[\"Tanggal\"] = driver.find_element(By.XPATH, \"//table[@id=\\'vgt-table\\']/tbody/tr/td/span\").text\n",
    "                        vars[\"Saham\"] = driver.find_element(By.XPATH, \"//table[@id='vgt-table']/tbody/tr/td[4]/div\").text\n",
    "                        \n",
    "                    except:\n",
    "                        vars[\"Tanggal\"] = driver.find_element(By.XPATH, f\"//table[@id=\\'vgt-table\\']/tbody/tr[{i}]/td[1]/span\").text\n",
    "                        vars[\"Saham\"] = driver.find_element(By.XPATH, f\"//table[@id=\\'vgt-table\\']/tbody/tr[{i}]/td[4]/div\").text\n",
    "                else:\n",
    "                    vars[\"Tanggal\"] = driver.find_element(By.XPATH, f\"//table[@id=\\'vgt-table\\']/tbody/tr[{i}]/td/span\").text\n",
    "                    vars[\"Saham\"] = driver.find_element(By.XPATH, f\"//table[@id=\\'vgt-table\\']/tbody/tr[{i}]/td[4]/div\").text\n",
    "                   \n",
    "                data.append(vars.copy())\n",
    "                i += 1\n",
    "            except:\n",
    "                condition = False\n",
    "                \n",
    "    except:\n",
    "        vars[\"Company\"] = company \n",
    "        vars[\"Tanggal\"] = \"Tidak ada data\"\n",
    "        vars[\"Saham\"] = \"Tidak ada data\"\n",
    "        data.append(vars.copy())\n",
    "   \n",
    "    return data"
   ]
  },
  {
   "cell_type": "code",
   "execution_count": 157,
   "metadata": {},
   "outputs": [
    {
     "name": "stdout",
     "output_type": "stream",
     "text": [
      "--saving AALI--\n",
      "sama dengan 1\n"
     ]
    },
    {
     "data": {
      "text/plain": [
       "[[{'Company': 'AALI', 'Tanggal': '24 Jun 2016', 'Saham': '1.924.688.333'},\n",
       "  {'Company': 'AALI', 'Tanggal': '18 Mei 2004', 'Saham': '1.574.745.000'},\n",
       "  {'Company': 'AALI', 'Tanggal': '06 Jul 1999', 'Saham': '1.509.600.000'},\n",
       "  {'Company': 'AALI', 'Tanggal': '09 Des 1997', 'Saham': '1.258.000.000'}]]"
      ]
     },
     "execution_count": 157,
     "metadata": {},
     "output_type": "execute_result"
    }
   ],
   "source": [
    "data_tampungan = []\n",
    "\n",
    "for i in data_saham:\n",
    "    data = data_scarping(i)\n",
    "    data_tampungan.append(data)\n",
    "\n",
    "data_tampungan\n",
    "    "
   ]
  }
 ],
 "metadata": {
  "kernelspec": {
   "display_name": "skripsi",
   "language": "python",
   "name": "python3"
  },
  "language_info": {
   "codemirror_mode": {
    "name": "ipython",
    "version": 3
   },
   "file_extension": ".py",
   "mimetype": "text/x-python",
   "name": "python",
   "nbconvert_exporter": "python",
   "pygments_lexer": "ipython3",
   "version": "3.11.4"
  },
  "orig_nbformat": 4
 },
 "nbformat": 4,
 "nbformat_minor": 2
}
