{
 "cells": [
  {
   "cell_type": "code",
   "execution_count": 11,
   "metadata": {},
   "outputs": [
    {
     "ename": "NoSuchDriverException",
     "evalue": "Message: Unable to obtain chromedriver using Selenium Manager; 'str' object has no attribute 'capabilities'; For documentation on this error, please visit: https://www.selenium.dev/documentation/webdriver/troubleshooting/errors/driver_location\n",
     "output_type": "error",
     "traceback": [
      "\u001b[1;31m---------------------------------------------------------------------------\u001b[0m",
      "\u001b[1;31mAttributeError\u001b[0m                            Traceback (most recent call last)",
      "File \u001b[1;32mc:\\Users\\arsen\\anaconda3\\envs\\skripsi\\Lib\\site-packages\\selenium\\webdriver\\common\\driver_finder.py:42\u001b[0m, in \u001b[0;36mDriverFinder.get_path\u001b[1;34m(service, options)\u001b[0m\n\u001b[0;32m     41\u001b[0m \u001b[39mtry\u001b[39;00m:\n\u001b[1;32m---> 42\u001b[0m     path \u001b[39m=\u001b[39m SeleniumManager()\u001b[39m.\u001b[39mdriver_location(options) \u001b[39mif\u001b[39;00m path \u001b[39mis\u001b[39;00m \u001b[39mNone\u001b[39;00m \u001b[39melse\u001b[39;00m path\n\u001b[0;32m     43\u001b[0m \u001b[39mexcept\u001b[39;00m \u001b[39mException\u001b[39;00m \u001b[39mas\u001b[39;00m err:\n",
      "File \u001b[1;32mc:\\Users\\arsen\\anaconda3\\envs\\skripsi\\Lib\\site-packages\\selenium\\webdriver\\common\\selenium_manager.py:74\u001b[0m, in \u001b[0;36mSeleniumManager.driver_location\u001b[1;34m(self, options)\u001b[0m\n\u001b[0;32m     72\u001b[0m logger\u001b[39m.\u001b[39mdebug(\u001b[39m\"\u001b[39m\u001b[39mApplicable driver not found; attempting to install with Selenium Manager (Beta)\u001b[39m\u001b[39m\"\u001b[39m)\n\u001b[1;32m---> 74\u001b[0m browser \u001b[39m=\u001b[39m options\u001b[39m.\u001b[39mcapabilities[\u001b[39m\"\u001b[39m\u001b[39mbrowserName\u001b[39m\u001b[39m\"\u001b[39m]\n\u001b[0;32m     76\u001b[0m args \u001b[39m=\u001b[39m [\u001b[39mstr\u001b[39m(\u001b[39mself\u001b[39m\u001b[39m.\u001b[39mget_binary()), \u001b[39m\"\u001b[39m\u001b[39m--browser\u001b[39m\u001b[39m\"\u001b[39m, browser, \u001b[39m\"\u001b[39m\u001b[39m--output\u001b[39m\u001b[39m\"\u001b[39m, \u001b[39m\"\u001b[39m\u001b[39mjson\u001b[39m\u001b[39m\"\u001b[39m]\n",
      "\u001b[1;31mAttributeError\u001b[0m: 'str' object has no attribute 'capabilities'",
      "\nDuring handling of the above exception, another exception occurred:\n",
      "\u001b[1;31mNoSuchDriverException\u001b[0m                     Traceback (most recent call last)",
      "Cell \u001b[1;32mIn[11], line 13\u001b[0m\n\u001b[0;32m      8\u001b[0m     \u001b[39mprint\u001b[39m(\u001b[39m\"\u001b[39m\u001b[39mChromeDriver Version:\u001b[39m\u001b[39m\"\u001b[39m, chrome_version)\n\u001b[0;32m     10\u001b[0m     \u001b[39m# Rest of your code\u001b[39;00m\n\u001b[0;32m     11\u001b[0m \n\u001b[0;32m     12\u001b[0m \u001b[39m# The rest of your code remains unchanged\u001b[39;00m\n\u001b[1;32m---> 13\u001b[0m execute_selenium_task()\n",
      "Cell \u001b[1;32mIn[11], line 6\u001b[0m, in \u001b[0;36mexecute_selenium_task\u001b[1;34m()\u001b[0m\n\u001b[0;32m      4\u001b[0m \u001b[39mdef\u001b[39;00m \u001b[39mexecute_selenium_task\u001b[39m():\n\u001b[0;32m      5\u001b[0m     chrome_driver_path \u001b[39m=\u001b[39m ChromeDriverManager()\u001b[39m.\u001b[39minstall()\n\u001b[1;32m----> 6\u001b[0m     driver \u001b[39m=\u001b[39m webdriver\u001b[39m.\u001b[39mChrome(\u001b[39m'\u001b[39m\u001b[39mC:\u001b[39m\u001b[39m\\\\\u001b[39;00m\u001b[39mUsers\u001b[39m\u001b[39m\\\\\u001b[39;00m\u001b[39marsen\u001b[39m\u001b[39m\\\\\u001b[39;00m\u001b[39m.wdm\u001b[39m\u001b[39m\\\\\u001b[39;00m\u001b[39mdrivers\u001b[39m\u001b[39m\\\\\u001b[39;00m\u001b[39mchromedriver\u001b[39m\u001b[39m\\\\\u001b[39;00m\u001b[39mwin64\u001b[39m\u001b[39m\\\\\u001b[39;00m\u001b[39m116.0.5845.111\u001b[39m\u001b[39m\\\\\u001b[39;00m\u001b[39mchromedriver-win32\u001b[39m\u001b[39m\\\\\u001b[39;00m\u001b[39mchromedriver.exe\u001b[39m\u001b[39m'\u001b[39m)\n\u001b[0;32m      7\u001b[0m     chrome_version \u001b[39m=\u001b[39m driver\u001b[39m.\u001b[39mcapabilities[\u001b[39m'\u001b[39m\u001b[39mchrome\u001b[39m\u001b[39m'\u001b[39m][\u001b[39m'\u001b[39m\u001b[39mchromedriverVersion\u001b[39m\u001b[39m'\u001b[39m]\n\u001b[0;32m      8\u001b[0m     \u001b[39mprint\u001b[39m(\u001b[39m\"\u001b[39m\u001b[39mChromeDriver Version:\u001b[39m\u001b[39m\"\u001b[39m, chrome_version)\n",
      "File \u001b[1;32mc:\\Users\\arsen\\anaconda3\\envs\\skripsi\\Lib\\site-packages\\selenium\\webdriver\\chrome\\webdriver.py:47\u001b[0m, in \u001b[0;36mWebDriver.__init__\u001b[1;34m(self, options, service, keep_alive)\u001b[0m\n\u001b[0;32m     44\u001b[0m \u001b[39mself\u001b[39m\u001b[39m.\u001b[39moptions \u001b[39m=\u001b[39m options \u001b[39mif\u001b[39;00m options \u001b[39melse\u001b[39;00m Options()\n\u001b[0;32m     45\u001b[0m \u001b[39mself\u001b[39m\u001b[39m.\u001b[39mkeep_alive \u001b[39m=\u001b[39m keep_alive\n\u001b[1;32m---> 47\u001b[0m \u001b[39mself\u001b[39m\u001b[39m.\u001b[39mservice\u001b[39m.\u001b[39mpath \u001b[39m=\u001b[39m DriverFinder\u001b[39m.\u001b[39mget_path(\u001b[39mself\u001b[39m\u001b[39m.\u001b[39mservice, \u001b[39mself\u001b[39m\u001b[39m.\u001b[39moptions)\n\u001b[0;32m     49\u001b[0m \u001b[39msuper\u001b[39m()\u001b[39m.\u001b[39m\u001b[39m__init__\u001b[39m(\n\u001b[0;32m     50\u001b[0m     DesiredCapabilities\u001b[39m.\u001b[39mCHROME[\u001b[39m\"\u001b[39m\u001b[39mbrowserName\u001b[39m\u001b[39m\"\u001b[39m],\n\u001b[0;32m     51\u001b[0m     \u001b[39m\"\u001b[39m\u001b[39mgoog\u001b[39m\u001b[39m\"\u001b[39m,\n\u001b[1;32m   (...)\u001b[0m\n\u001b[0;32m     54\u001b[0m     \u001b[39mself\u001b[39m\u001b[39m.\u001b[39mkeep_alive,\n\u001b[0;32m     55\u001b[0m )\n",
      "File \u001b[1;32mc:\\Users\\arsen\\anaconda3\\envs\\skripsi\\Lib\\site-packages\\selenium\\webdriver\\common\\driver_finder.py:44\u001b[0m, in \u001b[0;36mDriverFinder.get_path\u001b[1;34m(service, options)\u001b[0m\n\u001b[0;32m     42\u001b[0m     path \u001b[39m=\u001b[39m SeleniumManager()\u001b[39m.\u001b[39mdriver_location(options) \u001b[39mif\u001b[39;00m path \u001b[39mis\u001b[39;00m \u001b[39mNone\u001b[39;00m \u001b[39melse\u001b[39;00m path\n\u001b[0;32m     43\u001b[0m \u001b[39mexcept\u001b[39;00m \u001b[39mException\u001b[39;00m \u001b[39mas\u001b[39;00m err:\n\u001b[1;32m---> 44\u001b[0m     \u001b[39mraise\u001b[39;00m NoSuchDriverException(\u001b[39mf\u001b[39m\u001b[39m\"\u001b[39m\u001b[39mUnable to obtain \u001b[39m\u001b[39m{\u001b[39;00mservice\u001b[39m.\u001b[39mpath\u001b[39m}\u001b[39;00m\u001b[39m using Selenium Manager; \u001b[39m\u001b[39m{\u001b[39;00merr\u001b[39m}\u001b[39;00m\u001b[39m\"\u001b[39m)\n\u001b[0;32m     46\u001b[0m \u001b[39mif\u001b[39;00m path \u001b[39mis\u001b[39;00m \u001b[39mNone\u001b[39;00m \u001b[39mor\u001b[39;00m \u001b[39mnot\u001b[39;00m Path(path)\u001b[39m.\u001b[39mis_file():\n\u001b[0;32m     47\u001b[0m     \u001b[39mraise\u001b[39;00m NoSuchDriverException(\u001b[39mf\u001b[39m\u001b[39m\"\u001b[39m\u001b[39mUnable to locate or obtain \u001b[39m\u001b[39m{\u001b[39;00mservice\u001b[39m.\u001b[39mpath\u001b[39m}\u001b[39;00m\u001b[39m\"\u001b[39m)\n",
      "\u001b[1;31mNoSuchDriverException\u001b[0m: Message: Unable to obtain chromedriver using Selenium Manager; 'str' object has no attribute 'capabilities'; For documentation on this error, please visit: https://www.selenium.dev/documentation/webdriver/troubleshooting/errors/driver_location\n"
     ]
    }
   ],
   "source": [
    "from selenium import webdriver\n",
    "from webdriver_manager.chrome import ChromeDriverManager\n",
    "\n",
    "def execute_selenium_task():\n",
    "    chrome_driver_path = ChromeDriverManager().install()\n",
    "    driver = webdriver.Chrome('C:\\\\Users\\\\arsen\\\\.wdm\\\\drivers\\\\chromedriver\\\\win64\\\\116.0.5845.111\\\\chromedriver-win32\\\\chromedriver.exe')\n",
    "    chrome_version = driver.capabilities['chrome']['chromedriverVersion']\n",
    "    print(\"ChromeDriver Version:\", chrome_version)\n",
    "\n",
    "    # Rest of your code\n",
    "\n",
    "# The rest of your code remains unchanged\n",
    "execute_selenium_task()"
   ]
  },
  {
   "cell_type": "code",
   "execution_count": null,
   "metadata": {},
   "outputs": [
    {
     "data": {
      "text/plain": [
       "'C:\\\\Users\\\\arsen\\\\.wdm\\\\drivers\\\\chromedriver\\\\win64\\\\116.0.5845.111\\\\chromedriver-win32/chromedriver.exe'"
      ]
     },
     "execution_count": 6,
     "metadata": {},
     "output_type": "execute_result"
    }
   ],
   "source": [
    "from webdriver_manager.chrome import ChromeDriverManager\n",
    "\n",
    "chrome_driver_path = ChromeDriverManager().install()\n",
    "\n",
    "chrome_driver_path"
   ]
  },
  {
   "cell_type": "code",
   "execution_count": null,
   "metadata": {},
   "outputs": [],
   "source": [
    "x=[1,2,3,4]"
   ]
  },
  {
   "cell_type": "code",
   "execution_count": null,
   "metadata": {},
   "outputs": [],
   "source": [
    "# sum x list\n",
    "def sum(x):\n",
    "    sum = 0\n",
    "    for i in x:\n",
    "        sum += float(i)\n",
    "    return sum"
   ]
  },
  {
   "cell_type": "code",
   "execution_count": null,
   "metadata": {},
   "outputs": [
    {
     "data": {
      "text/plain": [
       "10.0"
      ]
     },
     "execution_count": 37,
     "metadata": {},
     "output_type": "execute_result"
    }
   ],
   "source": [
    "sum(x)"
   ]
  },
  {
   "cell_type": "code",
   "execution_count": null,
   "metadata": {},
   "outputs": [],
   "source": [
    "register = [\n",
    "    ['pendapatan','3','CurrentYearDuration',['Pendapatan bunga dan keuangan','Pendapatan bunga dan keuangan','Pendapatan bunga dan keuangan','Pendapatan dari sewa pembiayaan','Pendapatan administrasi','Pendapatan dari provisi dan komisi','Pendapatan dividen','Penerimaan kembali aset yang telah dihapusbukukan','Keuntungan (kerugian) selisih kurs mata uang asing','Keuntungan (kerugian) pelepasan aset tetap','Pendapatan lainnya']],\n",
    "]"
   ]
  },
  {
   "cell_type": "code",
   "execution_count": null,
   "metadata": {},
   "outputs": [
    {
     "name": "stdout",
     "output_type": "stream",
     "text": [
      "TRUE\n"
     ]
    }
   ],
   "source": [
    "for r in register:\n",
    "    if type(r[3])==list:\n",
    "        print(\"TRUE\")"
   ]
  },
  {
   "cell_type": "code",
   "execution_count": null,
   "metadata": {},
   "outputs": [
    {
     "data": {
      "text/plain": [
       "Date\n",
       "2022-05-24 00:00:00+07:00    166.0\n",
       "2022-05-25 00:00:00+07:00    162.0\n",
       "2022-05-27 00:00:00+07:00    165.0\n",
       "2022-05-30 00:00:00+07:00    169.0\n",
       "2022-05-31 00:00:00+07:00    165.0\n",
       "2022-06-02 00:00:00+07:00    166.0\n",
       "2022-06-03 00:00:00+07:00    167.0\n",
       "2022-06-06 00:00:00+07:00    185.0\n",
       "Name: Close, dtype: float64"
      ]
     },
     "execution_count": 40,
     "metadata": {},
     "output_type": "execute_result"
    }
   ],
   "source": [
    "import yfinance as yf\n",
    "import json\n",
    "\n",
    "company_code = 'HDIT.JK'  # Replace with the stock symbol you're interested in\n",
    "start_date = '2022-05-24'\n",
    "end_date = '2022-06-07'\n",
    "\n",
    "# Create a Ticker object\n",
    "ticker = yf.Ticker(company_code)\n",
    "\n",
    "# Retrieve historical data using the history method\n",
    "data = ticker.history(start=start_date, end=end_date)\n",
    "data['Close']"
   ]
  },
  {
   "cell_type": "code",
   "execution_count": null,
   "metadata": {},
   "outputs": [
    {
     "data": {
      "text/plain": [
       "{'address1': 'Gedung Graha Pena Lt 17 Kav. 1701',\n",
       " 'address2': 'Jl Urip Sumoharjo No. 20',\n",
       " 'city': 'Makassar',\n",
       " 'zip': '90234',\n",
       " 'country': 'Indonesia',\n",
       " 'phone': '62 41 143 9012',\n",
       " 'website': 'https://www.hdi.co.id',\n",
       " 'industry': 'Software—Infrastructure',\n",
       " 'industryDisp': 'Software—Infrastructure',\n",
       " 'sector': 'Technology',\n",
       " 'sectorDisp': 'Technology',\n",
       " 'longBusinessSummary': 'PT Hensel Davest Indonesia Tbk engages in the financial technology and electronic commerce business in Indonesia. It offers DavestPay mobile application for digital product purchase, billing payment, ticket reservation, and store payment. The company also provides artificial intelligence as a service in e-commerce platforms for business owners; and DoeKu, a platform that lends money in peer-to-peer lending market. In addition, it engages in information, communication, finance consulting, insurance, trading, and consulting businesses, as well as offers payment gateway and switching services. PT Hensel Davest Indonesia Tbk was founded in 2013 and is headquartered in Makassar, Indonesia.',\n",
       " 'fullTimeEmployees': 14,\n",
       " 'companyOfficers': [{'maxAge': 1,\n",
       "   'name': 'Mr. Edwin  Hosan',\n",
       "   'age': 34,\n",
       "   'title': 'Pres Director',\n",
       "   'yearBorn': 1988,\n",
       "   'exercisedValue': 0,\n",
       "   'unexercisedValue': 0},\n",
       "  {'maxAge': 1,\n",
       "   'name': 'Ms. Ferdiana  Tjahyadi',\n",
       "   'age': 48,\n",
       "   'title': 'Chief of Investor Relation & Legal, Corp. Sec. and Director',\n",
       "   'yearBorn': 1974,\n",
       "   'exercisedValue': 0,\n",
       "   'unexercisedValue': 0}],\n",
       " 'maxAge': 86400,\n",
       " 'priceHint': 2,\n",
       " 'previousClose': 50.0,\n",
       " 'open': 50.0,\n",
       " 'dayLow': 50.0,\n",
       " 'dayHigh': 50.0,\n",
       " 'regularMarketPreviousClose': 50.0,\n",
       " 'regularMarketOpen': 50.0,\n",
       " 'regularMarketDayLow': 50.0,\n",
       " 'regularMarketDayHigh': 50.0,\n",
       " 'beta': 0.289677,\n",
       " 'volume': 72200,\n",
       " 'regularMarketVolume': 72200,\n",
       " 'averageVolume': 42294,\n",
       " 'averageVolume10days': 59290,\n",
       " 'averageDailyVolume10Day': 59290,\n",
       " 'bid': 0.0,\n",
       " 'ask': 50.0,\n",
       " 'marketCap': 76233998336,\n",
       " 'fiftyTwoWeekLow': 50.0,\n",
       " 'fiftyTwoWeekHigh': 140.0,\n",
       " 'priceToSalesTrailing12Months': 0.022251045,\n",
       " 'fiftyDayAverage': 50.0,\n",
       " 'twoHundredDayAverage': 55.21,\n",
       " 'trailingAnnualDividendRate': 0.0,\n",
       " 'trailingAnnualDividendYield': 0.0,\n",
       " 'currency': 'IDR',\n",
       " 'enterpriseValue': 83891953664,\n",
       " 'profitMargins': -0.00548,\n",
       " 'floatShares': 558917194,\n",
       " 'sharesOutstanding': 1524679936,\n",
       " 'heldPercentInsiders': 0.53995997,\n",
       " 'heldPercentInstitutions': 0.0,\n",
       " 'impliedSharesOutstanding': 1524679936,\n",
       " 'bookValue': 212.994,\n",
       " 'priceToBook': 0.2347484,\n",
       " 'lastFiscalYearEnd': 1672444800,\n",
       " 'nextFiscalYearEnd': 1703980800,\n",
       " 'mostRecentQuarter': 1680220800,\n",
       " 'netIncomeToCommon': -18762031104,\n",
       " 'trailingEps': -4.88,\n",
       " 'enterpriseToRevenue': 0.024,\n",
       " 'enterpriseToEbitda': -6.186,\n",
       " '52WeekChange': -0.29577464,\n",
       " 'SandP52WeekChange': 0.056414247,\n",
       " 'exchange': 'JKT',\n",
       " 'quoteType': 'EQUITY',\n",
       " 'symbol': 'HDIT.JK',\n",
       " 'underlyingSymbol': 'HDIT.JK',\n",
       " 'shortName': 'Hensel Davest Indonesia Tbk.',\n",
       " 'longName': 'PT Hensel Davest Indonesia Tbk',\n",
       " 'firstTradeDateEpochUtc': 1562896800,\n",
       " 'timeZoneFullName': 'Asia/Jakarta',\n",
       " 'timeZoneShortName': 'WIB',\n",
       " 'uuid': '360bcfad-fd21-3bdd-8b11-a45215f5ebf6',\n",
       " 'messageBoardId': 'finmb_622875116',\n",
       " 'gmtOffSetMilliseconds': 25200000,\n",
       " 'currentPrice': 50.0,\n",
       " 'recommendationKey': 'none',\n",
       " 'totalCash': 133657848,\n",
       " 'totalCashPerShare': 0.088,\n",
       " 'ebitda': -13561744384,\n",
       " 'totalDebt': 3170240768,\n",
       " 'quickRatio': 5.7,\n",
       " 'currentRatio': 20.769,\n",
       " 'totalRevenue': 3426086027264,\n",
       " 'debtToEquity': 0.963,\n",
       " 'revenuePerShare': 2247.085,\n",
       " 'returnOnAssets': -0.030439999,\n",
       " 'returnOnEquity': -0.05501,\n",
       " 'grossProfits': 11402913704,\n",
       " 'freeCashflow': 33275381760,\n",
       " 'operatingCashflow': -34882658304,\n",
       " 'revenueGrowth': -0.581,\n",
       " 'grossMargins': 0.00481,\n",
       " 'ebitdaMargins': -0.00396,\n",
       " 'operatingMargins': -0.00535,\n",
       " 'financialCurrency': 'IDR',\n",
       " 'trailingPegRatio': None}"
      ]
     },
     "execution_count": 41,
     "metadata": {},
     "output_type": "execute_result"
    }
   ],
   "source": [
    "earnings = ticker.info\n",
    "earnings"
   ]
  },
  {
   "cell_type": "code",
   "execution_count": null,
   "metadata": {},
   "outputs": [],
   "source": [
    "json_filename = \"data_info.json\"\n",
    "with open(json_filename, \"w\") as json_file:\n",
    "    json.dump(earnings, json_file, indent=4)"
   ]
  }
 ],
 "metadata": {
  "kernelspec": {
   "display_name": "skripsi",
   "language": "python",
   "name": "skripsi"
  },
  "language_info": {
   "codemirror_mode": {
    "name": "ipython",
    "version": 3
   },
   "file_extension": ".py",
   "mimetype": "text/x-python",
   "name": "python",
   "nbconvert_exporter": "python",
   "pygments_lexer": "ipython3",
   "version": "3.11.4"
  },
  "orig_nbformat": 4
 },
 "nbformat": 4,
 "nbformat_minor": 2
}
