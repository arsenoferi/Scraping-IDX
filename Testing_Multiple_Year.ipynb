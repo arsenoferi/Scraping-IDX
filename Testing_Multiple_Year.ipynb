{
 "cells": [
  {
   "cell_type": "code",
   "execution_count": 30,
   "metadata": {},
   "outputs": [],
   "source": [
    "import pytest\n",
    "import time\n",
    "import json\n",
    "from selenium import webdriver\n",
    "from selenium.webdriver.common.by import By\n",
    "from selenium.webdriver.common.action_chains import ActionChains\n",
    "from selenium.webdriver.support import expected_conditions\n",
    "from selenium.webdriver.support.wait import WebDriverWait\n",
    "from selenium.webdriver.common.keys import Keys\n",
    "from selenium.webdriver.common.desired_capabilities import DesiredCapabilities\n",
    "import pandas as pd"
   ]
  },
  {
   "cell_type": "code",
   "execution_count": null,
   "metadata": {},
   "outputs": [],
   "source": []
  },
  {
   "cell_type": "code",
   "execution_count": 31,
   "metadata": {},
   "outputs": [],
   "source": [
    "Year = [2021,2020]"
   ]
  },
  {
   "cell_type": "code",
   "execution_count": 32,
   "metadata": {},
   "outputs": [
    {
     "name": "stdout",
     "output_type": "stream",
     "text": [
      "there in no company again\n",
      "there in no company again\n",
      "there in no company again\n",
      "there in no company again\n",
      "there in no company again\n"
     ]
    }
   ],
   "source": [
    "data_final = pd.DataFrame()\n",
    "\n",
    "for a in Year:\n",
    "    driver = webdriver.Chrome()\n",
    "    driver.get(\"https://www.idx.co.id/id/perusahaan-tercatat/laporan-keuangan-dan-tahunan\")\n",
    "    driver.set_window_size(1936, 1048)\n",
    "    \n",
    "    elements = driver.find_elements(By.CSS_SELECTOR, \".bzg_c:nth-child(4) > .mb-8 *\")\n",
    "\n",
    "    for element in elements:\n",
    "        if element.text == \"Tahunan\":\n",
    "            element.click()\n",
    "    \n",
    "    elements = driver.find_elements(By.CSS_SELECTOR, \".bzg_c:nth-child(3) > .mb-8 *\")\n",
    "    count = 0\n",
    "\n",
    "    for element in elements:\n",
    "        if element.text == str(a):\n",
    "            element.click()\n",
    "\n",
    "    driver.find_element(By.CSS_SELECTOR, \".btn--wider:nth-child(2)\").click()\n",
    "\n",
    "    element = driver.find_element(By.CSS_SELECTOR, \".btn--wider:nth-child(2)\")\n",
    "    actions = ActionChains(driver)\n",
    "    actions.move_to_element(element).perform() \n",
    "\n",
    "    element = driver.find_element(By.CSS_SELECTOR, \"body\")\n",
    "    actions = ActionChains(driver)\n",
    "\n",
    "    data = pd.DataFrame()\n",
    "    data2 = {}\n",
    "    c = 0\n",
    "    looping = True\n",
    "    page = 1\n",
    "\n",
    "    max_page = driver.find_element(By.CSS_SELECTOR, f\".ph-8\").text\n",
    "    max_page = max_page.split(\" \")\n",
    "    max_page = max_page[1]  \n",
    "    max_page = int(max_page)\n",
    "\n",
    "    while looping:\n",
    "        WebDriverWait(driver, 30).until(expected_conditions.presence_of_element_located((By.CSS_SELECTOR, \".bzg_c:nth-child(1) .box-title\")))\n",
    "        for i in range(1, 13):\n",
    "            try:\n",
    "                driver.find_element(By.CSS_SELECTOR, f\".bzg_c:nth-child({i}) .box-title\").click()\n",
    "                companys = driver.find_element(By.CSS_SELECTOR, f\".bzg_c:nth-child({i}) .f-20\").text\n",
    "                data2['Company'] = companys\n",
    "\n",
    "                driver.find_element(By.CSS_SELECTOR, f\".bzg_c:nth-child({i}) small\").click()\n",
    "                date = driver.find_element(By.CSS_SELECTOR, f\".bzg_c:nth-child({i}) small\").text\n",
    "                data2['Date']= date\n",
    "\n",
    "                driver.find_element(By.CSS_SELECTOR, f\".bzg_c:nth-child({i}) tr:nth-child(2) > .full-width\").click()\n",
    "                Tahun_Buku = driver.find_element(By.CSS_SELECTOR, f\".bzg_c:nth-child({i}) tr:nth-child(2) > .full-width\").text\n",
    "                data2['Tahun_Buku'] = Tahun_Buku\n",
    "                data2 = pd.DataFrame(data2, index=[c])\n",
    "                data = pd.concat([data, data2])\n",
    "\n",
    "            except Exception as e:\n",
    "                print(f\"there in no company again\")\n",
    "\n",
    "        if page == max_page:\n",
    "            looping = False\n",
    "        else:\n",
    "            try:\n",
    "                driver.find_element(By.CSS_SELECTOR, \".\\\\--next\").click()\n",
    "            except:\n",
    "                looping = False\n",
    "        \n",
    "        page += 1\n",
    "        \n",
    "    data.reset_index(drop=True, inplace=True)\n",
    "    data.to_csv(f\"Data_{a}.csv\")\n",
    "    "
   ]
  }
 ],
 "metadata": {
  "kernelspec": {
   "display_name": "binus",
   "language": "python",
   "name": "binus"
  },
  "language_info": {
   "codemirror_mode": {
    "name": "ipython",
    "version": 3
   },
   "file_extension": ".py",
   "mimetype": "text/x-python",
   "name": "python",
   "nbconvert_exporter": "python",
   "pygments_lexer": "ipython3",
   "version": "3.10.4"
  },
  "orig_nbformat": 4
 },
 "nbformat": 4,
 "nbformat_minor": 2
}
